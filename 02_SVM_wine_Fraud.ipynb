{
 "cells": [
  {
   "cell_type": "code",
   "execution_count": 1,
   "id": "3a4ef8a0",
   "metadata": {},
   "outputs": [],
   "source": [
    "import numpy as np\n",
    "import pandas as pd\n",
    "import seaborn as sns\n",
    "import matplotlib.pyplot as plt"
   ]
  },
  {
   "cell_type": "code",
   "execution_count": 2,
   "id": "cf92a435",
   "metadata": {},
   "outputs": [
    {
     "data": {
      "text/html": [
       "<div>\n",
       "<style scoped>\n",
       "    .dataframe tbody tr th:only-of-type {\n",
       "        vertical-align: middle;\n",
       "    }\n",
       "\n",
       "    .dataframe tbody tr th {\n",
       "        vertical-align: top;\n",
       "    }\n",
       "\n",
       "    .dataframe thead th {\n",
       "        text-align: right;\n",
       "    }\n",
       "</style>\n",
       "<table border=\"1\" class=\"dataframe\">\n",
       "  <thead>\n",
       "    <tr style=\"text-align: right;\">\n",
       "      <th></th>\n",
       "      <th>fixed acidity</th>\n",
       "      <th>volatile acidity</th>\n",
       "      <th>citric acid</th>\n",
       "      <th>residual sugar</th>\n",
       "      <th>chlorides</th>\n",
       "      <th>free sulfur dioxide</th>\n",
       "      <th>total sulfur dioxide</th>\n",
       "      <th>density</th>\n",
       "      <th>pH</th>\n",
       "      <th>sulphates</th>\n",
       "      <th>alcohol</th>\n",
       "      <th>quality</th>\n",
       "      <th>type</th>\n",
       "    </tr>\n",
       "  </thead>\n",
       "  <tbody>\n",
       "    <tr>\n",
       "      <th>0</th>\n",
       "      <td>7.4</td>\n",
       "      <td>0.70</td>\n",
       "      <td>0.00</td>\n",
       "      <td>1.9</td>\n",
       "      <td>0.076</td>\n",
       "      <td>11.0</td>\n",
       "      <td>34.0</td>\n",
       "      <td>0.9978</td>\n",
       "      <td>3.51</td>\n",
       "      <td>0.56</td>\n",
       "      <td>9.4</td>\n",
       "      <td>Legit</td>\n",
       "      <td>red</td>\n",
       "    </tr>\n",
       "    <tr>\n",
       "      <th>1</th>\n",
       "      <td>7.8</td>\n",
       "      <td>0.88</td>\n",
       "      <td>0.00</td>\n",
       "      <td>2.6</td>\n",
       "      <td>0.098</td>\n",
       "      <td>25.0</td>\n",
       "      <td>67.0</td>\n",
       "      <td>0.9968</td>\n",
       "      <td>3.20</td>\n",
       "      <td>0.68</td>\n",
       "      <td>9.8</td>\n",
       "      <td>Legit</td>\n",
       "      <td>red</td>\n",
       "    </tr>\n",
       "    <tr>\n",
       "      <th>2</th>\n",
       "      <td>7.8</td>\n",
       "      <td>0.76</td>\n",
       "      <td>0.04</td>\n",
       "      <td>2.3</td>\n",
       "      <td>0.092</td>\n",
       "      <td>15.0</td>\n",
       "      <td>54.0</td>\n",
       "      <td>0.9970</td>\n",
       "      <td>3.26</td>\n",
       "      <td>0.65</td>\n",
       "      <td>9.8</td>\n",
       "      <td>Legit</td>\n",
       "      <td>red</td>\n",
       "    </tr>\n",
       "    <tr>\n",
       "      <th>3</th>\n",
       "      <td>11.2</td>\n",
       "      <td>0.28</td>\n",
       "      <td>0.56</td>\n",
       "      <td>1.9</td>\n",
       "      <td>0.075</td>\n",
       "      <td>17.0</td>\n",
       "      <td>60.0</td>\n",
       "      <td>0.9980</td>\n",
       "      <td>3.16</td>\n",
       "      <td>0.58</td>\n",
       "      <td>9.8</td>\n",
       "      <td>Legit</td>\n",
       "      <td>red</td>\n",
       "    </tr>\n",
       "    <tr>\n",
       "      <th>4</th>\n",
       "      <td>7.4</td>\n",
       "      <td>0.70</td>\n",
       "      <td>0.00</td>\n",
       "      <td>1.9</td>\n",
       "      <td>0.076</td>\n",
       "      <td>11.0</td>\n",
       "      <td>34.0</td>\n",
       "      <td>0.9978</td>\n",
       "      <td>3.51</td>\n",
       "      <td>0.56</td>\n",
       "      <td>9.4</td>\n",
       "      <td>Legit</td>\n",
       "      <td>red</td>\n",
       "    </tr>\n",
       "  </tbody>\n",
       "</table>\n",
       "</div>"
      ],
      "text/plain": [
       "   fixed acidity  volatile acidity  citric acid  residual sugar  chlorides  \\\n",
       "0            7.4              0.70         0.00             1.9      0.076   \n",
       "1            7.8              0.88         0.00             2.6      0.098   \n",
       "2            7.8              0.76         0.04             2.3      0.092   \n",
       "3           11.2              0.28         0.56             1.9      0.075   \n",
       "4            7.4              0.70         0.00             1.9      0.076   \n",
       "\n",
       "   free sulfur dioxide  total sulfur dioxide  density    pH  sulphates  \\\n",
       "0                 11.0                  34.0   0.9978  3.51       0.56   \n",
       "1                 25.0                  67.0   0.9968  3.20       0.68   \n",
       "2                 15.0                  54.0   0.9970  3.26       0.65   \n",
       "3                 17.0                  60.0   0.9980  3.16       0.58   \n",
       "4                 11.0                  34.0   0.9978  3.51       0.56   \n",
       "\n",
       "   alcohol quality type  \n",
       "0      9.4   Legit  red  \n",
       "1      9.8   Legit  red  \n",
       "2      9.8   Legit  red  \n",
       "3      9.8   Legit  red  \n",
       "4      9.4   Legit  red  "
      ]
     },
     "execution_count": 2,
     "metadata": {},
     "output_type": "execute_result"
    }
   ],
   "source": []
  },
  {
   "cell_type": "code",
   "execution_count": 3,
   "id": "82e4a260",
   "metadata": {},
   "outputs": [
    {
     "data": {
      "text/plain": [
       "Legit    6251\n",
       "Fraud     246\n",
       "Name: quality, dtype: int64"
      ]
     },
     "execution_count": 3,
     "metadata": {},
     "output_type": "execute_result"
    }
   ],
   "source": [
    "df['quality'].value_counts()"
   ]
  },
  {
   "cell_type": "code",
   "execution_count": 4,
   "id": "373a0fca",
   "metadata": {},
   "outputs": [
    {
     "data": {
      "text/plain": [
       "white    4898\n",
       "red      1599\n",
       "Name: type, dtype: int64"
      ]
     },
     "execution_count": 4,
     "metadata": {},
     "output_type": "execute_result"
    }
   ],
   "source": [
    "df['type'].value_counts()"
   ]
  },
  {
   "cell_type": "markdown",
   "id": "32f41bec",
   "metadata": {},
   "source": [
    "##EDA"
   ]
  },
  {
   "cell_type": "code",
   "execution_count": 5,
   "id": "3aecdf15",
   "metadata": {},
   "outputs": [
    {
     "name": "stdout",
     "output_type": "stream",
     "text": [
      "<class 'pandas.core.frame.DataFrame'>\n",
      "RangeIndex: 6497 entries, 0 to 6496\n",
      "Data columns (total 13 columns):\n",
      " #   Column                Non-Null Count  Dtype  \n",
      "---  ------                --------------  -----  \n",
      " 0   fixed acidity         6497 non-null   float64\n",
      " 1   volatile acidity      6497 non-null   float64\n",
      " 2   citric acid           6497 non-null   float64\n",
      " 3   residual sugar        6497 non-null   float64\n",
      " 4   chlorides             6497 non-null   float64\n",
      " 5   free sulfur dioxide   6497 non-null   float64\n",
      " 6   total sulfur dioxide  6497 non-null   float64\n",
      " 7   density               6497 non-null   float64\n",
      " 8   pH                    6497 non-null   float64\n",
      " 9   sulphates             6497 non-null   float64\n",
      " 10  alcohol               6497 non-null   float64\n",
      " 11  quality               6497 non-null   object \n",
      " 12  type                  6497 non-null   object \n",
      "dtypes: float64(11), object(2)\n",
      "memory usage: 660.0+ KB\n"
     ]
    }
   ],
   "source": [
    "df.info()"
   ]
  },
  {
   "cell_type": "code",
   "execution_count": 6,
   "id": "8a7159dd",
   "metadata": {},
   "outputs": [
    {
     "data": {
      "text/plain": [
       "<AxesSubplot:xlabel='type', ylabel='count'>"
      ]
     },
     "execution_count": 6,
     "metadata": {},
     "output_type": "execute_result"
    },
    {
     "data": {
      "image/png": "[encoded data removed]",
      "text/plain": [
       "<Figure size 640x480 with 1 Axes>"
      ]
     },
     "metadata": {},
     "output_type": "display_data"
    }
   ],
   "source": [
    "sns.countplot(x='type',hue='quality',data=df)\n"
   ]
  },
  {
   "cell_type": "code",
   "execution_count": 7,
   "id": "0966e604",
   "metadata": {},
   "outputs": [],
   "source": [
    "red  = df[df['type']=='red']\n",
    "white = df[df['type']=='white']"
   ]
  },
  {
   "cell_type": "code",
   "execution_count": 8,
   "id": "243b1e7f",
   "metadata": {},
   "outputs": [
    {
     "data": {
      "text/plain": [
       "3.9399624765478425"
      ]
     },
     "execution_count": 8,
     "metadata": {},
     "output_type": "execute_result"
    }
   ],
   "source": [
    "100*len(red[red['quality']== 'Fraud'])/len(red)"
   ]
  },
  {
   "cell_type": "code",
   "execution_count": 9,
   "id": "8272be23",
   "metadata": {},
   "outputs": [
    {
     "data": {
      "text/plain": [
       "3.736218864842793"
      ]
     },
     "execution_count": 9,
     "metadata": {},
     "output_type": "execute_result"
    }
   ],
   "source": [
    "100*len(white[white['quality']== 'Fraud'])/len(white)"
   ]
  },
  {
   "cell_type": "code",
   "execution_count": 10,
   "id": "09507979",
   "metadata": {},
   "outputs": [
    {
     "data": {
      "text/html": [
       "<div>\n",
       "<style scoped>\n",
       "    .dataframe tbody tr th:only-of-type {\n",
       "        vertical-align: middle;\n",
       "    }\n",
       "\n",
       "    .dataframe tbody tr th {\n",
       "        vertical-align: top;\n",
       "    }\n",
       "\n",
       "    .dataframe thead th {\n",
       "        text-align: right;\n",
       "    }\n",
       "</style>\n",
       "<table border=\"1\" class=\"dataframe\">\n",
       "  <thead>\n",
       "    <tr style=\"text-align: right;\">\n",
       "      <th></th>\n",
       "      <th>fixed acidity</th>\n",
       "      <th>volatile acidity</th>\n",
       "      <th>citric acid</th>\n",
       "      <th>residual sugar</th>\n",
       "      <th>chlorides</th>\n",
       "      <th>free sulfur dioxide</th>\n",
       "      <th>total sulfur dioxide</th>\n",
       "      <th>density</th>\n",
       "      <th>pH</th>\n",
       "      <th>sulphates</th>\n",
       "      <th>alcohol</th>\n",
       "      <th>quality</th>\n",
       "      <th>type</th>\n",
       "      <th>Fraud</th>\n",
       "    </tr>\n",
       "  </thead>\n",
       "  <tbody>\n",
       "    <tr>\n",
       "      <th>0</th>\n",
       "      <td>7.4</td>\n",
       "      <td>0.70</td>\n",
       "      <td>0.00</td>\n",
       "      <td>1.9</td>\n",
       "      <td>0.076</td>\n",
       "      <td>11.0</td>\n",
       "      <td>34.0</td>\n",
       "      <td>0.9978</td>\n",
       "      <td>3.51</td>\n",
       "      <td>0.56</td>\n",
       "      <td>9.4</td>\n",
       "      <td>Legit</td>\n",
       "      <td>red</td>\n",
       "      <td>0</td>\n",
       "    </tr>\n",
       "    <tr>\n",
       "      <th>1</th>\n",
       "      <td>7.8</td>\n",
       "      <td>0.88</td>\n",
       "      <td>0.00</td>\n",
       "      <td>2.6</td>\n",
       "      <td>0.098</td>\n",
       "      <td>25.0</td>\n",
       "      <td>67.0</td>\n",
       "      <td>0.9968</td>\n",
       "      <td>3.20</td>\n",
       "      <td>0.68</td>\n",
       "      <td>9.8</td>\n",
       "      <td>Legit</td>\n",
       "      <td>red</td>\n",
       "      <td>0</td>\n",
       "    </tr>\n",
       "    <tr>\n",
       "      <th>2</th>\n",
       "      <td>7.8</td>\n",
       "      <td>0.76</td>\n",
       "      <td>0.04</td>\n",
       "      <td>2.3</td>\n",
       "      <td>0.092</td>\n",
       "      <td>15.0</td>\n",
       "      <td>54.0</td>\n",
       "      <td>0.9970</td>\n",
       "      <td>3.26</td>\n",
       "      <td>0.65</td>\n",
       "      <td>9.8</td>\n",
       "      <td>Legit</td>\n",
       "      <td>red</td>\n",
       "      <td>0</td>\n",
       "    </tr>\n",
       "    <tr>\n",
       "      <th>3</th>\n",
       "      <td>11.2</td>\n",
       "      <td>0.28</td>\n",
       "      <td>0.56</td>\n",
       "      <td>1.9</td>\n",
       "      <td>0.075</td>\n",
       "      <td>17.0</td>\n",
       "      <td>60.0</td>\n",
       "      <td>0.9980</td>\n",
       "      <td>3.16</td>\n",
       "      <td>0.58</td>\n",
       "      <td>9.8</td>\n",
       "      <td>Legit</td>\n",
       "      <td>red</td>\n",
       "      <td>0</td>\n",
       "    </tr>\n",
       "    <tr>\n",
       "      <th>4</th>\n",
       "      <td>7.4</td>\n",
       "      <td>0.70</td>\n",
       "      <td>0.00</td>\n",
       "      <td>1.9</td>\n",
       "      <td>0.076</td>\n",
       "      <td>11.0</td>\n",
       "      <td>34.0</td>\n",
       "      <td>0.9978</td>\n",
       "      <td>3.51</td>\n",
       "      <td>0.56</td>\n",
       "      <td>9.4</td>\n",
       "      <td>Legit</td>\n",
       "      <td>red</td>\n",
       "      <td>0</td>\n",
       "    </tr>\n",
       "  </tbody>\n",
       "</table>\n",
       "</div>"
      ],
      "text/plain": [
       "   fixed acidity  volatile acidity  citric acid  residual sugar  chlorides  \\\n",
       "0            7.4              0.70         0.00             1.9      0.076   \n",
       "1            7.8              0.88         0.00             2.6      0.098   \n",
       "2            7.8              0.76         0.04             2.3      0.092   \n",
       "3           11.2              0.28         0.56             1.9      0.075   \n",
       "4            7.4              0.70         0.00             1.9      0.076   \n",
       "\n",
       "   free sulfur dioxide  total sulfur dioxide  density    pH  sulphates  \\\n",
       "0                 11.0                  34.0   0.9978  3.51       0.56   \n",
       "1                 25.0                  67.0   0.9968  3.20       0.68   \n",
       "2                 15.0                  54.0   0.9970  3.26       0.65   \n",
       "3                 17.0                  60.0   0.9980  3.16       0.58   \n",
       "4                 11.0                  34.0   0.9978  3.51       0.56   \n",
       "\n",
       "   alcohol quality type  Fraud  \n",
       "0      9.4   Legit  red      0  \n",
       "1      9.8   Legit  red      0  \n",
       "2      9.8   Legit  red      0  \n",
       "3      9.8   Legit  red      0  \n",
       "4      9.4   Legit  red      0  "
      ]
     },
     "execution_count": 10,
     "metadata": {},
     "output_type": "execute_result"
    }
   ],
   "source": [
    "df['Fraud'] = df['quality'].map({'Legit':0,'Fraud':1})\n",
    "df.head()"
   ]
  },
  {
   "cell_type": "code",
   "execution_count": 11,
   "id": "8b376ab5",
   "metadata": {},
   "outputs": [
    {
     "data": {
      "text/plain": [
       "Index(['fixed acidity', 'volatile acidity', 'citric acid', 'residual sugar',\n",
       "       'chlorides', 'free sulfur dioxide', 'total sulfur dioxide', 'density',\n",
       "       'pH', 'sulphates', 'alcohol', 'quality', 'type', 'Fraud'],\n",
       "      dtype='object')"
      ]
     },
     "execution_count": 11,
     "metadata": {},
     "output_type": "execute_result"
    }
   ],
   "source": [
    "df.columns"
   ]
  },
  {
   "cell_type": "code",
   "execution_count": 12,
   "id": "3415485b",
   "metadata": {},
   "outputs": [
    {
     "data": {
      "text/plain": [
       "fixed acidity           0.021794\n",
       "volatile acidity        0.151228\n",
       "citric acid            -0.061789\n",
       "residual sugar         -0.048756\n",
       "chlorides               0.034499\n",
       "free sulfur dioxide    -0.085204\n",
       "total sulfur dioxide   -0.035252\n",
       "density                 0.016351\n",
       "pH                      0.020107\n",
       "sulphates              -0.034046\n",
       "alcohol                -0.051141\n",
       "Fraud                   1.000000\n",
       "Name: Fraud, dtype: float64"
      ]
     },
     "execution_count": 12,
     "metadata": {},
     "output_type": "execute_result"
    }
   ],
   "source": [
    "df1 = df[['fixed acidity', 'volatile acidity', 'citric acid', 'residual sugar',\n",
    "       'chlorides', 'free sulfur dioxide', 'total sulfur dioxide', 'density',\n",
    "       'pH', 'sulphates', 'alcohol', 'quality', 'type', 'Fraud']]\n",
    "df1.corr()['Fraud']"
   ]
  },
  {
   "cell_type": "code",
   "execution_count": 13,
   "id": "517baadf",
   "metadata": {},
   "outputs": [
    {
     "data": {
      "text/plain": [
       "<AxesSubplot:>"
      ]
     },
     "execution_count": 13,
     "metadata": {},
     "output_type": "execute_result"
    },
    {
     "data": {
      "image/png": "[encoded data removed]",
      "text/plain": [
       "<Figure size 640x480 with 1 Axes>"
      ]
     },
     "metadata": {},
     "output_type": "display_data"
    }
   ],
   "source": [
    "df1.corr()['Fraud'][:-1].sort_values().plot(kind='bar')"
   ]
  },
  {
   "cell_type": "markdown",
   "id": "64954f47",
   "metadata": {},
   "source": [
    "'type' Column to dummy variables"
   ]
  },
  {
   "cell_type": "code",
   "execution_count": 14,
   "id": "afdf658d",
   "metadata": {},
   "outputs": [],
   "source": [
    "df['type'] = pd.get_dummies(df['type'],drop_first=True)"
   ]
  },
  {
   "cell_type": "code",
   "execution_count": 15,
   "id": "44f783a2",
   "metadata": {},
   "outputs": [
    {
     "data": {
      "text/html": [
       "<div>\n",
       "<style scoped>\n",
       "    .dataframe tbody tr th:only-of-type {\n",
       "        vertical-align: middle;\n",
       "    }\n",
       "\n",
       "    .dataframe tbody tr th {\n",
       "        vertical-align: top;\n",
       "    }\n",
       "\n",
       "    .dataframe thead th {\n",
       "        text-align: right;\n",
       "    }\n",
       "</style>\n",
       "<table border=\"1\" class=\"dataframe\">\n",
       "  <thead>\n",
       "    <tr style=\"text-align: right;\">\n",
       "      <th></th>\n",
       "      <th>fixed acidity</th>\n",
       "      <th>volatile acidity</th>\n",
       "      <th>citric acid</th>\n",
       "      <th>residual sugar</th>\n",
       "      <th>chlorides</th>\n",
       "      <th>free sulfur dioxide</th>\n",
       "      <th>total sulfur dioxide</th>\n",
       "      <th>density</th>\n",
       "      <th>pH</th>\n",
       "      <th>sulphates</th>\n",
       "      <th>alcohol</th>\n",
       "      <th>quality</th>\n",
       "      <th>type</th>\n",
       "    </tr>\n",
       "  </thead>\n",
       "  <tbody>\n",
       "    <tr>\n",
       "      <th>0</th>\n",
       "      <td>7.4</td>\n",
       "      <td>0.70</td>\n",
       "      <td>0.00</td>\n",
       "      <td>1.9</td>\n",
       "      <td>0.076</td>\n",
       "      <td>11.0</td>\n",
       "      <td>34.0</td>\n",
       "      <td>0.9978</td>\n",
       "      <td>3.51</td>\n",
       "      <td>0.56</td>\n",
       "      <td>9.4</td>\n",
       "      <td>Legit</td>\n",
       "      <td>0</td>\n",
       "    </tr>\n",
       "    <tr>\n",
       "      <th>1</th>\n",
       "      <td>7.8</td>\n",
       "      <td>0.88</td>\n",
       "      <td>0.00</td>\n",
       "      <td>2.6</td>\n",
       "      <td>0.098</td>\n",
       "      <td>25.0</td>\n",
       "      <td>67.0</td>\n",
       "      <td>0.9968</td>\n",
       "      <td>3.20</td>\n",
       "      <td>0.68</td>\n",
       "      <td>9.8</td>\n",
       "      <td>Legit</td>\n",
       "      <td>0</td>\n",
       "    </tr>\n",
       "    <tr>\n",
       "      <th>2</th>\n",
       "      <td>7.8</td>\n",
       "      <td>0.76</td>\n",
       "      <td>0.04</td>\n",
       "      <td>2.3</td>\n",
       "      <td>0.092</td>\n",
       "      <td>15.0</td>\n",
       "      <td>54.0</td>\n",
       "      <td>0.9970</td>\n",
       "      <td>3.26</td>\n",
       "      <td>0.65</td>\n",
       "      <td>9.8</td>\n",
       "      <td>Legit</td>\n",
       "      <td>0</td>\n",
       "    </tr>\n",
       "    <tr>\n",
       "      <th>3</th>\n",
       "      <td>11.2</td>\n",
       "      <td>0.28</td>\n",
       "      <td>0.56</td>\n",
       "      <td>1.9</td>\n",
       "      <td>0.075</td>\n",
       "      <td>17.0</td>\n",
       "      <td>60.0</td>\n",
       "      <td>0.9980</td>\n",
       "      <td>3.16</td>\n",
       "      <td>0.58</td>\n",
       "      <td>9.8</td>\n",
       "      <td>Legit</td>\n",
       "      <td>0</td>\n",
       "    </tr>\n",
       "    <tr>\n",
       "      <th>4</th>\n",
       "      <td>7.4</td>\n",
       "      <td>0.70</td>\n",
       "      <td>0.00</td>\n",
       "      <td>1.9</td>\n",
       "      <td>0.076</td>\n",
       "      <td>11.0</td>\n",
       "      <td>34.0</td>\n",
       "      <td>0.9978</td>\n",
       "      <td>3.51</td>\n",
       "      <td>0.56</td>\n",
       "      <td>9.4</td>\n",
       "      <td>Legit</td>\n",
       "      <td>0</td>\n",
       "    </tr>\n",
       "  </tbody>\n",
       "</table>\n",
       "</div>"
      ],
      "text/plain": [
       "   fixed acidity  volatile acidity  citric acid  residual sugar  chlorides  \\\n",
       "0            7.4              0.70         0.00             1.9      0.076   \n",
       "1            7.8              0.88         0.00             2.6      0.098   \n",
       "2            7.8              0.76         0.04             2.3      0.092   \n",
       "3           11.2              0.28         0.56             1.9      0.075   \n",
       "4            7.4              0.70         0.00             1.9      0.076   \n",
       "\n",
       "   free sulfur dioxide  total sulfur dioxide  density    pH  sulphates  \\\n",
       "0                 11.0                  34.0   0.9978  3.51       0.56   \n",
       "1                 25.0                  67.0   0.9968  3.20       0.68   \n",
       "2                 15.0                  54.0   0.9970  3.26       0.65   \n",
       "3                 17.0                  60.0   0.9980  3.16       0.58   \n",
       "4                 11.0                  34.0   0.9978  3.51       0.56   \n",
       "\n",
       "   alcohol quality  type  \n",
       "0      9.4   Legit     0  \n",
       "1      9.8   Legit     0  \n",
       "2      9.8   Legit     0  \n",
       "3      9.8   Legit     0  \n",
       "4      9.4   Legit     0  "
      ]
     },
     "execution_count": 15,
     "metadata": {},
     "output_type": "execute_result"
    }
   ],
   "source": [
    "df = df.drop('Fraud',axis=1)\n",
    "df.head()"
   ]
  },
  {
   "cell_type": "code",
   "execution_count": 16,
   "id": "9e9cff4d",
   "metadata": {},
   "outputs": [],
   "source": [
    "x = df.drop('quality',axis=1)\n",
    "y = df['quality']"
   ]
  },
  {
   "cell_type": "code",
   "execution_count": 17,
   "id": "3aff88cc",
   "metadata": {},
   "outputs": [],
   "source": [
    "from sklearn.model_selection import train_test_split\n",
    "x_train,x_test, y_train,y_test = train_test_split(x,y,test_size=0.1, random_state=50)"
   ]
  },
  {
   "cell_type": "code",
   "execution_count": 18,
   "id": "8f36c0a3",
   "metadata": {},
   "outputs": [],
   "source": [
    "from sklearn.preprocessing import StandardScaler"
   ]
  },
  {
   "cell_type": "code",
   "execution_count": 34,
   "id": "eb99c758",
   "metadata": {},
   "outputs": [],
   "source": [
    "sc = StandardScaler()\n",
    "sc_x_train = sc.fit_transform(x_train)\n",
    "sc_x_test = sc.transform(x_test)"
   ]
  },
  {
   "cell_type": "code",
   "execution_count": 35,
   "id": "20046f4a",
   "metadata": {},
   "outputs": [],
   "source": [
    "from sklearn.svm import SVC"
   ]
  },
  {
   "cell_type": "code",
   "execution_count": 36,
   "id": "ee7a2e40",
   "metadata": {},
   "outputs": [],
   "source": [
    "svc = SVC(class_weight='balanced')"
   ]
  },
  {
   "cell_type": "code",
   "execution_count": 37,
   "id": "f55df947",
   "metadata": {},
   "outputs": [],
   "source": [
    "from sklearn.model_selection import GridSearchCV"
   ]
  },
  {
   "cell_type": "code",
   "execution_count": 38,
   "id": "e416ee03",
   "metadata": {},
   "outputs": [],
   "source": [
    "param_grid = {'C':[0.001,0.01,0.1,0.5,0.8,1],'gamma':['scale','auto']}\n",
    "grid = GridSearchCV(svc,param_grid)"
   ]
  },
  {
   "cell_type": "code",
   "execution_count": 39,
   "id": "c7bab45d",
   "metadata": {},
   "outputs": [
    {
     "data": {
      "text/plain": [
       "GridSearchCV(estimator=SVC(class_weight='balanced'),\n",
       "             param_grid={'C': [0.001, 0.01, 0.1, 0.5, 0.8, 1],\n",
       "                         'gamma': ['scale', 'auto']})"
      ]
     },
     "execution_count": 39,
     "metadata": {},
     "output_type": "execute_result"
    }
   ],
   "source": [
    "grid.fit(sc_x_train,y_train,)"
   ]
  },
  {
   "cell_type": "code",
   "execution_count": 40,
   "id": "09b8f26d",
   "metadata": {},
   "outputs": [
    {
     "data": {
      "text/plain": [
       "{'C': 1, 'gamma': 'auto'}"
      ]
     },
     "execution_count": 40,
     "metadata": {},
     "output_type": "execute_result"
    }
   ],
   "source": [
    "grid.best_params_"
   ]
  },
  {
   "cell_type": "code",
   "execution_count": 41,
   "id": "65645667",
   "metadata": {},
   "outputs": [],
   "source": [
    "y_pred = grid.predict(sc_x_test)"
   ]
  },
  {
   "cell_type": "code",
   "execution_count": 42,
   "id": "97c1c78f",
   "metadata": {},
   "outputs": [
    {
     "data": {
      "text/plain": [
       "array(['Legit', 'Fraud', 'Legit', 'Legit', 'Fraud', 'Legit', 'Legit',\n",
       "       'Legit', 'Legit', 'Legit', 'Legit', 'Legit', 'Fraud', 'Legit',\n",
       "       'Legit', 'Legit', 'Fraud', 'Legit', 'Legit', 'Legit', 'Legit',\n",
       "       'Legit', 'Fraud', 'Legit', 'Fraud', 'Legit', 'Legit', 'Legit',\n",
       "       'Fraud', 'Legit', 'Legit', 'Fraud', 'Legit', 'Legit', 'Legit',\n",
       "       'Fraud', 'Fraud', 'Legit', 'Legit', 'Legit', 'Legit', 'Legit',\n",
       "       'Legit', 'Legit', 'Legit', 'Legit', 'Legit', 'Legit', 'Legit',\n",
       "       'Legit', 'Legit', 'Fraud', 'Legit', 'Legit', 'Legit', 'Legit',\n",
       "       'Fraud', 'Legit', 'Legit', 'Legit', 'Fraud', 'Legit', 'Fraud',\n",
       "       'Legit', 'Legit', 'Fraud', 'Legit', 'Legit', 'Fraud', 'Legit',\n",
       "       'Legit', 'Legit', 'Legit', 'Legit', 'Legit', 'Fraud', 'Legit',\n",
       "       'Legit', 'Legit', 'Legit', 'Fraud', 'Fraud', 'Legit', 'Legit',\n",
       "       'Legit', 'Legit', 'Legit', 'Legit', 'Fraud', 'Legit', 'Legit',\n",
       "       'Fraud', 'Legit', 'Legit', 'Legit', 'Legit', 'Legit', 'Fraud',\n",
       "       'Legit', 'Legit', 'Legit', 'Legit', 'Legit', 'Legit', 'Legit',\n",
       "       'Legit', 'Fraud', 'Legit', 'Legit', 'Legit', 'Legit', 'Fraud',\n",
       "       'Legit', 'Legit', 'Legit', 'Legit', 'Fraud', 'Legit', 'Legit',\n",
       "       'Legit', 'Legit', 'Legit', 'Fraud', 'Legit', 'Legit', 'Legit',\n",
       "       'Fraud', 'Fraud', 'Legit', 'Legit', 'Legit', 'Legit', 'Legit',\n",
       "       'Legit', 'Legit', 'Fraud', 'Legit', 'Legit', 'Legit', 'Legit',\n",
       "       'Legit', 'Legit', 'Legit', 'Legit', 'Legit', 'Legit', 'Legit',\n",
       "       'Legit', 'Legit', 'Legit', 'Legit', 'Legit', 'Legit', 'Legit',\n",
       "       'Legit', 'Legit', 'Fraud', 'Legit', 'Legit', 'Legit', 'Legit',\n",
       "       'Legit', 'Fraud', 'Fraud', 'Legit', 'Legit', 'Legit', 'Legit',\n",
       "       'Legit', 'Fraud', 'Legit', 'Legit', 'Legit', 'Legit', 'Legit',\n",
       "       'Legit', 'Legit', 'Legit', 'Fraud', 'Legit', 'Fraud', 'Legit',\n",
       "       'Legit', 'Fraud', 'Legit', 'Legit', 'Legit', 'Legit', 'Legit',\n",
       "       'Legit', 'Legit', 'Fraud', 'Legit', 'Legit', 'Fraud', 'Legit',\n",
       "       'Legit', 'Legit', 'Legit', 'Legit', 'Legit', 'Legit', 'Legit',\n",
       "       'Legit', 'Legit', 'Legit', 'Legit', 'Legit', 'Legit', 'Legit',\n",
       "       'Legit', 'Legit', 'Legit', 'Legit', 'Legit', 'Legit', 'Legit',\n",
       "       'Legit', 'Legit', 'Fraud', 'Legit', 'Legit', 'Legit', 'Legit',\n",
       "       'Legit', 'Legit', 'Fraud', 'Legit', 'Legit', 'Legit', 'Legit',\n",
       "       'Legit', 'Legit', 'Legit', 'Fraud', 'Legit', 'Legit', 'Legit',\n",
       "       'Legit', 'Legit', 'Legit', 'Legit', 'Legit', 'Legit', 'Fraud',\n",
       "       'Legit', 'Legit', 'Legit', 'Legit', 'Fraud', 'Legit', 'Legit',\n",
       "       'Legit', 'Legit', 'Legit', 'Legit', 'Legit', 'Legit', 'Fraud',\n",
       "       'Legit', 'Legit', 'Fraud', 'Legit', 'Legit', 'Legit', 'Legit',\n",
       "       'Fraud', 'Legit', 'Legit', 'Fraud', 'Legit', 'Legit', 'Legit',\n",
       "       'Legit', 'Legit', 'Fraud', 'Legit', 'Legit', 'Legit', 'Legit',\n",
       "       'Legit', 'Fraud', 'Legit', 'Legit', 'Legit', 'Legit', 'Legit',\n",
       "       'Legit', 'Legit', 'Legit', 'Legit', 'Legit', 'Legit', 'Fraud',\n",
       "       'Legit', 'Legit', 'Legit', 'Fraud', 'Legit', 'Fraud', 'Legit',\n",
       "       'Legit', 'Legit', 'Legit', 'Fraud', 'Legit', 'Legit', 'Legit',\n",
       "       'Legit', 'Legit', 'Fraud', 'Legit', 'Legit', 'Legit', 'Legit',\n",
       "       'Fraud', 'Legit', 'Legit', 'Legit', 'Legit', 'Legit', 'Legit',\n",
       "       'Legit', 'Legit', 'Legit', 'Fraud', 'Legit', 'Legit', 'Legit',\n",
       "       'Legit', 'Legit', 'Legit', 'Legit', 'Legit', 'Legit', 'Legit',\n",
       "       'Legit', 'Legit', 'Fraud', 'Legit', 'Legit', 'Fraud', 'Legit',\n",
       "       'Legit', 'Legit', 'Legit', 'Legit', 'Legit', 'Legit', 'Fraud',\n",
       "       'Legit', 'Legit', 'Legit', 'Legit', 'Legit', 'Legit', 'Fraud',\n",
       "       'Legit', 'Fraud', 'Fraud', 'Legit', 'Legit', 'Legit', 'Legit',\n",
       "       'Fraud', 'Legit', 'Legit', 'Legit', 'Fraud', 'Legit', 'Legit',\n",
       "       'Legit', 'Legit', 'Legit', 'Legit', 'Legit', 'Legit', 'Legit',\n",
       "       'Legit', 'Legit', 'Legit', 'Legit', 'Legit', 'Fraud', 'Legit',\n",
       "       'Legit', 'Legit', 'Legit', 'Legit', 'Legit', 'Legit', 'Legit',\n",
       "       'Legit', 'Legit', 'Legit', 'Legit', 'Legit', 'Legit', 'Legit',\n",
       "       'Legit', 'Legit', 'Legit', 'Legit', 'Legit', 'Fraud', 'Legit',\n",
       "       'Legit', 'Legit', 'Legit', 'Legit', 'Fraud', 'Legit', 'Legit',\n",
       "       'Legit', 'Fraud', 'Legit', 'Legit', 'Legit', 'Legit', 'Fraud',\n",
       "       'Legit', 'Fraud', 'Legit', 'Legit', 'Fraud', 'Fraud', 'Legit',\n",
       "       'Legit', 'Legit', 'Legit', 'Legit', 'Fraud', 'Legit', 'Legit',\n",
       "       'Legit', 'Legit', 'Fraud', 'Legit', 'Legit', 'Legit', 'Legit',\n",
       "       'Legit', 'Legit', 'Fraud', 'Legit', 'Legit', 'Legit', 'Legit',\n",
       "       'Legit', 'Legit', 'Legit', 'Legit', 'Fraud', 'Legit', 'Legit',\n",
       "       'Legit', 'Fraud', 'Legit', 'Legit', 'Fraud', 'Legit', 'Legit',\n",
       "       'Legit', 'Legit', 'Fraud', 'Legit', 'Legit', 'Legit', 'Legit',\n",
       "       'Legit', 'Legit', 'Legit', 'Legit', 'Legit', 'Legit', 'Legit',\n",
       "       'Fraud', 'Fraud', 'Legit', 'Legit', 'Legit', 'Fraud', 'Fraud',\n",
       "       'Fraud', 'Legit', 'Fraud', 'Legit', 'Legit', 'Legit', 'Legit',\n",
       "       'Fraud', 'Legit', 'Legit', 'Legit', 'Legit', 'Legit', 'Legit',\n",
       "       'Legit', 'Legit', 'Legit', 'Legit', 'Legit', 'Legit', 'Legit',\n",
       "       'Legit', 'Legit', 'Legit', 'Legit', 'Legit', 'Fraud', 'Legit',\n",
       "       'Legit', 'Legit', 'Legit', 'Legit', 'Legit', 'Legit', 'Legit',\n",
       "       'Fraud', 'Fraud', 'Fraud', 'Legit', 'Fraud', 'Legit', 'Legit',\n",
       "       'Legit', 'Legit', 'Fraud', 'Legit', 'Legit', 'Fraud', 'Legit',\n",
       "       'Legit', 'Legit', 'Legit', 'Legit', 'Legit', 'Legit', 'Legit',\n",
       "       'Legit', 'Fraud', 'Fraud', 'Legit', 'Legit', 'Legit', 'Legit',\n",
       "       'Legit', 'Fraud', 'Legit', 'Legit', 'Fraud', 'Legit', 'Fraud',\n",
       "       'Legit', 'Fraud', 'Legit', 'Legit', 'Legit', 'Legit', 'Legit',\n",
       "       'Legit', 'Legit', 'Legit', 'Legit', 'Fraud', 'Legit', 'Legit',\n",
       "       'Legit', 'Legit', 'Legit', 'Legit', 'Legit', 'Legit', 'Legit',\n",
       "       'Legit', 'Legit', 'Legit', 'Legit', 'Legit', 'Legit', 'Legit',\n",
       "       'Legit', 'Legit', 'Legit', 'Legit', 'Legit', 'Legit', 'Legit',\n",
       "       'Legit', 'Legit', 'Legit', 'Fraud', 'Legit', 'Legit', 'Legit',\n",
       "       'Legit', 'Legit', 'Legit', 'Legit', 'Legit', 'Legit', 'Fraud',\n",
       "       'Legit', 'Legit', 'Legit', 'Legit', 'Fraud', 'Fraud', 'Legit',\n",
       "       'Fraud', 'Legit', 'Legit', 'Legit', 'Legit', 'Fraud', 'Legit',\n",
       "       'Legit', 'Legit', 'Legit', 'Legit', 'Legit', 'Legit', 'Legit',\n",
       "       'Fraud', 'Fraud', 'Fraud', 'Legit', 'Legit', 'Fraud', 'Legit',\n",
       "       'Legit', 'Legit', 'Fraud', 'Legit', 'Legit', 'Legit', 'Legit',\n",
       "       'Fraud', 'Legit', 'Legit', 'Legit', 'Fraud', 'Legit', 'Legit',\n",
       "       'Legit', 'Legit', 'Legit', 'Legit', 'Fraud', 'Legit'], dtype=object)"
      ]
     },
     "execution_count": 42,
     "metadata": {},
     "output_type": "execute_result"
    }
   ],
   "source": [
    "y_pred"
   ]
  },
  {
   "cell_type": "code",
   "execution_count": 43,
   "id": "64db11fe",
   "metadata": {},
   "outputs": [],
   "source": [
    "from sklearn.metrics import confusion_matrix,classification_report"
   ]
  },
  {
   "cell_type": "code",
   "execution_count": 44,
   "id": "20388fbc",
   "metadata": {},
   "outputs": [
    {
     "data": {
      "text/plain": [
       "array([[  9,   9],\n",
       "       [105, 527]], dtype=int64)"
      ]
     },
     "execution_count": 44,
     "metadata": {},
     "output_type": "execute_result"
    }
   ],
   "source": [
    "confusion_matrix(y_test,y_pred)"
   ]
  },
  {
   "cell_type": "code",
   "execution_count": 45,
   "id": "fce9bd4c",
   "metadata": {},
   "outputs": [
    {
     "name": "stdout",
     "output_type": "stream",
     "text": [
      "              precision    recall  f1-score   support\n",
      "\n",
      "       Fraud       0.08      0.50      0.14        18\n",
      "       Legit       0.98      0.83      0.90       632\n",
      "\n",
      "    accuracy                           0.82       650\n",
      "   macro avg       0.53      0.67      0.52       650\n",
      "weighted avg       0.96      0.82      0.88       650\n",
      "\n"
     ]
    }
   ],
   "source": [
    "print(classification_report(y_test,y_pred))"
   ]
  },
  {
   "cell_type": "markdown",
   "id": "cbcc7db8",
   "metadata": {},
   "source": [
    "### conclusion\n",
    "\n",
    "1 My dataset is unbalanced\n",
    "2 performing chemical analysis is not a right way of detecting your wine being a fraud or legit"
   ]
  },
  {
   "cell_type": "code",
   "execution_count": null,
   "id": "af40a5f0",
   "metadata": {},
   "outputs": [],
   "source": []
  }
 ],
 "metadata": {
  "kernelspec": {
   "display_name": "Python 3 (ipykernel)",
   "language": "python",
   "name": "python3"
  },
  "language_info": {
   "codemirror_mode": {
    "name": "ipython",
    "version": 3
   },
   "file_extension": ".py",
   "mimetype": "text/x-python",
   "name": "python",
   "nbconvert_exporter": "python",
   "pygments_lexer": "ipython3",
   "version": "3.9.13"
  }
 },
 "nbformat": 4,
 "nbformat_minor": 5
}
